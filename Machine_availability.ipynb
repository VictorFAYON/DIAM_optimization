{
 "cells": [
  {
   "cell_type": "code",
   "execution_count": 2,
   "id": "fc867068-5c2a-4f27-bd17-c6023028a21e",
   "metadata": {
    "vscode": {
     "languageId": "shellscript"
    }
   },
   "outputs": [],
   "source": [
    "import pandas as pd\n"
   ]
  },
  {
   "cell_type": "code",
   "execution_count": 4,
   "id": "ccd5d823-b42a-439a-85b8-5c3635b97c4d",
   "metadata": {
    "vscode": {
     "languageId": "shellscript"
    }
   },
   "outputs": [
    {
     "name": "stdout",
     "output_type": "stream",
     "text": [
      "24\n"
     ]
    }
   ],
   "source": [
    "import csv\n",
    "\n",
    "\n",
    "#df = pd.read_csv(\"DB_OF/Machine_availability.csv\")\n",
    "df = pd.read_csv(\"DB_OF/Machine_availability.csv\",sep=';', encoding='cp1252')\n",
    "df = df.drop(columns=[\"LASTR13\", \"LASTR14\",\"MIXFOG13\",])\n",
    "df.head(10)\n",
    "\n",
    "# Nom de la colonne à déplacer\n",
    "col_to_move = df.columns[-1]  # dernière colonne = 'D'\n",
    "\n",
    "# Colonnes avant et après\n",
    "before = 'MIXFOG06'\n",
    "after = 'VTFOG06'\n",
    "\n",
    "# Recréation de la nouvelle liste d'ordres de colonnes\n",
    "cols = list(df.columns)\n",
    "cols.remove(col_to_move)\n",
    "\n",
    "insert_at = cols.index(after)\n",
    "cols.insert(insert_at, col_to_move)\n",
    "\n",
    "# Réarranger le DataFrame\n",
    "df = df[cols]\n",
    "\n",
    "\n",
    "df['Date'] = pd.to_datetime(df['Date'], dayfirst=True)\n",
    "df.set_index('Date', inplace=True)\n",
    "\n",
    "\n",
    "Launching_day = pd.to_datetime('08/03/2025', dayfirst=True)  #jour ou est lancé le programme\n",
    "\n",
    "def hours_working(day , Machine ):  #jour : day/month/year    -   nom de la machine type : string\n",
    "    day = pd.to_datetime(day,dayfirst=True)\n",
    "    hours = df.loc[day, Machine]\n",
    "    return hours\n",
    "\n",
    "print(hours_working('20/03/2025','MIXFOG05'))\n",
    "\n"
   ]
  },
  {
   "cell_type": "code",
   "execution_count": null,
   "id": "0e1a71bc-0fef-4ac3-9362-9cdf6dbcd6df",
   "metadata": {
    "vscode": {
     "languageId": "shellscript"
    }
   },
   "outputs": [],
   "source": []
  }
 ],
 "metadata": {
  "kernelspec": {
   "display_name": "Python 3 (ipykernel)",
   "language": "python",
   "name": "python3"
  },
  "language_info": {
   "codemirror_mode": {
    "name": "ipython",
    "version": 3
   },
   "file_extension": ".py",
   "mimetype": "text/x-python",
   "name": "python",
   "nbconvert_exporter": "python",
   "pygments_lexer": "ipython3",
   "version": "3.12.4"
  }
 },
 "nbformat": 4,
 "nbformat_minor": 5
}
